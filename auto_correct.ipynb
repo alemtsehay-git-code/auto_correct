{
 "cells": [
  {
   "cell_type": "code",
   "execution_count": 23,
   "id": "c24708cf",
   "metadata": {},
   "outputs": [],
   "source": [
    "# importing mdules that are used in the code\n",
    "import re\n",
    "import string\n",
    "from collections import Counter \n",
    "import numpy as np \n"
   ]
  },
  {
   "cell_type": "code",
   "execution_count": 42,
   "id": "e9b589a6",
   "metadata": {},
   "outputs": [],
   "source": [
    "# opening file and read and w+ is to split the sentences in word by word\n",
    "def myfile(file_path):\n",
    "   with open(file_path, \"r\",encoding=\"utf-8\") as file: # the file that is used here is utf-8 type , you can use your own\n",
    "    lines = file.readlines()\n",
    "    words = []\n",
    "    for line in lines:\n",
    "        words += re.findall(r'\\w+', line.lower())\n",
    "\n",
    "    return words"
   ]
  },
  {
   "cell_type": "code",
   "execution_count": 25,
   "id": "cc473496",
   "metadata": {},
   "outputs": [
    {
     "name": "stdout",
     "output_type": "stream",
     "text": [
      "The corpus contains 8338 total words.\n"
     ]
    }
   ],
   "source": [
    "words = myfile(\"./book.txt\") # the file name \"book.txt\" used here can be changed\n",
    "word_count = len(words)\n",
    "message = \"The corpus contains \" + str(word_count) + \" total words.\"\n",
    "print(message)"
   ]
  },
  {
   "cell_type": "code",
   "execution_count": 26,
   "id": "01ba8568",
   "metadata": {},
   "outputs": [
    {
     "name": "stdout",
     "output_type": "stream",
     "text": [
      "2083\n"
     ]
    }
   ],
   "source": [
    "my_words = set(words)\n",
    "print(len(my_words))"
   ]
  },
  {
   "cell_type": "code",
   "execution_count": 27,
   "id": "f23af4ce",
   "metadata": {},
   "outputs": [
    {
     "name": "stdout",
     "output_type": "stream",
     "text": [
      "483\n"
     ]
    }
   ],
   "source": [
    "word_counts = Counter(words)\n",
    "print(word_counts[\"the\"])"
   ]
  },
  {
   "cell_type": "code",
   "execution_count": 28,
   "id": "cf3c78fe",
   "metadata": {},
   "outputs": [
    {
     "name": "stdout",
     "output_type": "stream",
     "text": [
      "0.010554089709762533 0.057927560566082996\n"
     ]
    }
   ],
   "source": [
    "total_word= float(sum(word_counts.values()))\n",
    "probability = {word:word_counts[word]/total_word for word in word_counts.keys() }\n",
    "print(probability[\"he\"],probability[\"the\"])"
   ]
  },
  {
   "cell_type": "code",
   "execution_count": 29,
   "id": "05976139",
   "metadata": {},
   "outputs": [],
   "source": [
    "def split(word):\n",
    "    return [(word[:i], word[i:]) for i in range(len(word) + 1)]\n",
    "\n",
    "def delete(word):\n",
    "    return [l + r[1:] for l, r in split(word) if r]\n",
    "\n",
    "def swap(word):\n",
    "    return [l + r[1] + r[0] + r[2:] for l, r in split(word) if len(r) > 1]\n",
    "\n",
    "def insert(word):\n",
    "    letters = string.ascii_lowercase\n",
    "    return [l + c + r for l, r in split(word) for c in letters]\n",
    "def replace(word):\n",
    "    letters = string.ascii_lowercase\n",
    "    return [l + c + r[1:] for l, r in split(word) for c in letters if r]"
   ]
  },
  {
   "cell_type": "code",
   "execution_count": 30,
   "id": "04cbd3bd",
   "metadata": {},
   "outputs": [],
   "source": [
    " def editing(word):\n",
    "    return set(delete(word) + swap(word) + replace(word) + insert(word))\n",
    "\n",
    "#print(editing(\"have\"))"
   ]
  },
  {
   "cell_type": "code",
   "execution_count": 31,
   "id": "da74c096",
   "metadata": {},
   "outputs": [],
   "source": [
    "def editing_2(word):\n",
    "    return set(e2 for e1 in edit1(word) for e2 in edit1(e1))"
   ]
  },
  {
   "cell_type": "code",
   "execution_count": 32,
   "id": "94f45134",
   "metadata": {},
   "outputs": [],
   "source": [
    "def correct_spelling(word, vocabulary, word_probabilities):\n",
    "    if word in vocabulary:\n",
    "        print(f\"{word} is already correctly spelled\")\n",
    "        return\n",
    "\n",
    "    suggestions = editing(word) or editing_2(word) or [word]\n",
    "    best_guesses = [w for w in suggestions if w in vocabulary]\n",
    "    return [(w, word_probabilities[w]) for w in best_guesses]"
   ]
  },
  {
   "cell_type": "code",
   "execution_count": 33,
   "id": "57f2cd07",
   "metadata": {},
   "outputs": [
    {
     "name": "stdout",
     "output_type": "stream",
     "text": [
      "[('the', 0.057927560566082996), ('he', 0.010554089709762533)]\n"
     ]
    }
   ],
   "source": [
    "word = \"ihe\"\n",
    "corrections = correct_spelling(word, my_words, probability)\n",
    "\n",
    "if corrections:\n",
    "  print(corrections)\n",
    "  probs = np.array([c[1] for c in corrections])\n",
    "  best_ix = np.argmax(probs)\n",
    "  #correct = corrections[best_ix][0]\n",
    "  #print(f\"{correct} is suggested for {word}\")\n",
    "  #print(correct)"
   ]
  },
  {
   "cell_type": "code",
   "execution_count": 45,
   "id": "b55b9a88",
   "metadata": {},
   "outputs": [],
   "source": [
    "class auto_correct(object):\n",
    "\n",
    "  def __init__(self,file_path):\n",
    "    with open(file_path, \"r\",encoding=\"utf-8\") as file:\n",
    "      lines = file.readlines()\n",
    "      words = []\n",
    "      for line in lines:\n",
    "        words += re.findall(r'\\w+', line.lower())\n",
    "\n",
    "    self.vocabulary = set(words)\n",
    "    self.word_counts = Counter(words)\n",
    "    total_words = float(sum(self.word_counts.values()))\n",
    "    self.word_probas = {word: self.word_counts[word] / total_words for word in self.vocabs}\n",
    "\n",
    "  def editing(self, word):\n",
    "    letters = string.ascii_lowercase\n",
    "    splits = [(word[:i], word[i:]) for i in range(len(word) + 1)]\n",
    "    deletes = [l + r[1:] for l,r in splits if r]\n",
    "    swaps = [l + r[1] + r[0] + r[2:] for l, r in splits if len(r)>1]\n",
    "    replaces = [l + c + r[1:] for l, r in splits if r for c in letters]\n",
    "    inserts = [l + c + r for l, r in splits for c in letters] \n",
    "\n",
    "    return set(deletes + swaps + replaces + inserts)\n",
    "\n",
    "  def editing(self, word):\n",
    "    return set(e2 for e1 in self.editing(word) for e2 in self.editing(e1))\n",
    "\n",
    "  def check(self, word):\n",
    "    my_words = self.editing(word) or self.editing_2(word) or [word]\n",
    "    valid_words = [w for w in my_words if w in self.vocabulary]\n",
    "    return sorted([(c, self.word_probas[c]) for c in valid_words], key=lambda tup: tup[1], reverse=True)\n"
   ]
  },
  {
   "cell_type": "code",
   "execution_count": 46,
   "id": "962bd48e",
   "metadata": {},
   "outputs": [
    {
     "data": {
      "text/plain": [
       "[('sentence', 0.00023986567522187575)]"
      ]
     },
     "execution_count": 46,
     "metadata": {},
     "output_type": "execute_result"
    }
   ],
   "source": [
    "checker = SpellChecker(\"./book.txt\")# a text file saved \n",
    "checker.check(\"sentense\")#one word from the textfile called book.text"
   ]
  },
  {
   "cell_type": "code",
   "execution_count": null,
   "id": "42644eae",
   "metadata": {},
   "outputs": [],
   "source": []
  }
 ],
 "metadata": {
  "kernelspec": {
   "display_name": "Python 3",
   "language": "python",
   "name": "python3"
  },
  "language_info": {
   "codemirror_mode": {
    "name": "ipython",
    "version": 3
   },
   "file_extension": ".py",
   "mimetype": "text/x-python",
   "name": "python",
   "nbconvert_exporter": "python",
   "pygments_lexer": "ipython3",
   "version": "3.8.8"
  }
 },
 "nbformat": 4,
 "nbformat_minor": 5
}
